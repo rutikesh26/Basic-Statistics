{
  "nbformat": 4,
  "nbformat_minor": 0,
  "metadata": {
    "colab": {
      "provenance": []
    },
    "kernelspec": {
      "name": "python3",
      "display_name": "Python 3"
    },
    "language_info": {
      "name": "python"
    }
  },
  "cells": [
    {
      "cell_type": "code",
      "execution_count": null,
      "metadata": {
        "id": "9GMugdj8aRmc"
      },
      "outputs": [],
      "source": []
    },
    {
      "cell_type": "markdown",
      "source": [
        "Exercise 1: Prime Numbers\n",
        "\n",
        "Write a Python program that checks whether a given number is prime or not. A prime number is a natural number greater than 1 that has no positive divisors other than 1 and itself.\n"
      ],
      "metadata": {
        "id": "Q8j5EQ0zc_m3"
      }
    },
    {
      "cell_type": "code",
      "source": [
        "def is_prime(n):\n",
        "    if n <= 1:\n",
        "        return False\n",
        "    for i in range(2, int(n ** 0.5) + 1):\n",
        "        if n % i == 0:\n",
        "            return False\n",
        "    return True\n",
        "number = int(input(\"Enter a number: \"))\n",
        "if is_prime(number):\n",
        "    print(f\"{number} is a prime number.\")\n",
        "else:\n",
        "    print(f\"{number} is not a prime number.\")"
      ],
      "metadata": {
        "colab": {
          "base_uri": "https://localhost:8080/"
        },
        "id": "P-Uu-uOXdCI4",
        "outputId": "21271710-ede3-40e8-e99e-ef90f31b0c00"
      },
      "execution_count": 1,
      "outputs": [
        {
          "output_type": "stream",
          "name": "stdout",
          "text": [
            "Enter a number: 6\n",
            "6 is not a prime number.\n"
          ]
        }
      ]
    },
    {
      "cell_type": "code",
      "source": [],
      "metadata": {
        "id": "y70ZeXMJdXdv"
      },
      "execution_count": null,
      "outputs": []
    },
    {
      "cell_type": "code",
      "source": [],
      "metadata": {
        "id": "Owi6xFVadsiq"
      },
      "execution_count": null,
      "outputs": []
    },
    {
      "cell_type": "markdown",
      "source": [
        "Exercise 2: Product of Random Numbers\n",
        "\n",
        "Develop a Python program that generates two random numbers and asks the user to enter the product of these numbers. The program should then check if the user's answer is correct and display an appropriate message.\n"
      ],
      "metadata": {
        "id": "6W58SOo0eQSL"
      }
    },
    {
      "cell_type": "code",
      "source": [
        "import random\n",
        "def multiplication_quiz():\n",
        "  num1= random.randint(1,10)\n",
        "  num2= random.randint(1,10)\n",
        "\n",
        "  correct_answer= num1 * num2\n",
        "\n",
        "  user_answer= int(input(f'what is the product of {num1} and {num2}?'))\n",
        "\n",
        "  if user_answer == correct_answer:\n",
        "    print ('Correct!.Well Done.')\n",
        "\n",
        "  else:\n",
        "    print(f'incorrect.The Correct Answer Is {correct_answer}.')\n",
        "\n",
        "multiplication_quiz()\n"
      ],
      "metadata": {
        "colab": {
          "base_uri": "https://localhost:8080/"
        },
        "id": "_dQkCFZpdsc0",
        "outputId": "3ceba1dd-659a-436b-ea5b-fd6e82f6b05c"
      },
      "execution_count": 13,
      "outputs": [
        {
          "output_type": "stream",
          "name": "stdout",
          "text": [
            "what is the product of 6 and 4?48\n",
            "incorrect.The Correct Answer Is 24.\n"
          ]
        }
      ]
    },
    {
      "cell_type": "code",
      "source": [],
      "metadata": {
        "id": "qGOchawdiAuP"
      },
      "execution_count": null,
      "outputs": []
    },
    {
      "cell_type": "markdown",
      "source": [
        "Exercise 3: Squares of Even/Odd Numbers\n",
        "\n",
        "Create a Python script that prints the squares of all even or odd numbers within the range of 100 to 200. Choose either even or odd numbers and document your choice in the code.\n",
        "\n"
      ],
      "metadata": {
        "id": "Q8psHjQ3j8o9"
      }
    },
    {
      "cell_type": "code",
      "source": [
        "for number in range(100,200):\n",
        "  if number % 2==0:\n",
        "    print (f'the square of{ number }is {number ** 2}')"
      ],
      "metadata": {
        "colab": {
          "base_uri": "https://localhost:8080/"
        },
        "id": "PNphIAVKiAjR",
        "outputId": "7e7ff7da-90ba-4637-88c1-5d0e325c5354"
      },
      "execution_count": 14,
      "outputs": [
        {
          "output_type": "stream",
          "name": "stdout",
          "text": [
            "the square of100is 10000\n",
            "the square of102is 10404\n",
            "the square of104is 10816\n",
            "the square of106is 11236\n",
            "the square of108is 11664\n",
            "the square of110is 12100\n",
            "the square of112is 12544\n",
            "the square of114is 12996\n",
            "the square of116is 13456\n",
            "the square of118is 13924\n",
            "the square of120is 14400\n",
            "the square of122is 14884\n",
            "the square of124is 15376\n",
            "the square of126is 15876\n",
            "the square of128is 16384\n",
            "the square of130is 16900\n",
            "the square of132is 17424\n",
            "the square of134is 17956\n",
            "the square of136is 18496\n",
            "the square of138is 19044\n",
            "the square of140is 19600\n",
            "the square of142is 20164\n",
            "the square of144is 20736\n",
            "the square of146is 21316\n",
            "the square of148is 21904\n",
            "the square of150is 22500\n",
            "the square of152is 23104\n",
            "the square of154is 23716\n",
            "the square of156is 24336\n",
            "the square of158is 24964\n",
            "the square of160is 25600\n",
            "the square of162is 26244\n",
            "the square of164is 26896\n",
            "the square of166is 27556\n",
            "the square of168is 28224\n",
            "the square of170is 28900\n",
            "the square of172is 29584\n",
            "the square of174is 30276\n",
            "the square of176is 30976\n",
            "the square of178is 31684\n",
            "the square of180is 32400\n",
            "the square of182is 33124\n",
            "the square of184is 33856\n",
            "the square of186is 34596\n",
            "the square of188is 35344\n",
            "the square of190is 36100\n",
            "the square of192is 36864\n",
            "the square of194is 37636\n",
            "the square of196is 38416\n",
            "the square of198is 39204\n"
          ]
        }
      ]
    },
    {
      "cell_type": "code",
      "source": [],
      "metadata": {
        "id": "Ci_llYiXlWD9"
      },
      "execution_count": null,
      "outputs": []
    },
    {
      "cell_type": "markdown",
      "source": [
        "Exercise 4: Word counter\n",
        "\n",
        "write a program to count the number of words in a given text.\n",
        "example:\n",
        "input_text = \"This is a sample text. This text will be used to demonstrate the word counter.\"\n",
        "Expected output:\n",
        "'This': 2\n",
        "'is': 1\n",
        "'a': 1\n",
        "'sample': 1\n"
      ],
      "metadata": {
        "id": "h1csgWcIpSSZ"
      }
    },
    {
      "cell_type": "code",
      "source": [
        "def word_counter(text):\n",
        "  text = text.lower()\n",
        "  text= ''.join(char for char in text if char.isalnum() or char.isspace())\n",
        "  words= text.split()\n",
        "  word_counts  ={}\n",
        "  for word in words:\n",
        "    if word in word_counts:\n",
        "      word_counts[word]+= 1\n",
        "    else:\n",
        "      word_counts[word]=1\n",
        "  for word, count in word_counts.items():\n",
        "    print(f\"'{word}' : {count}\")\n",
        "input_text = \"This is sample text . this text will be used to demonstrate  the word counter.\"\n",
        "word_counter(input_text)\n"
      ],
      "metadata": {
        "colab": {
          "base_uri": "https://localhost:8080/"
        },
        "id": "lCIlQAWFpWFp",
        "outputId": "d9ca7e46-6d7d-489f-eb1e-afc9709b08fd"
      },
      "execution_count": 19,
      "outputs": [
        {
          "output_type": "stream",
          "name": "stdout",
          "text": [
            "'this' : 2\n",
            "'is' : 1\n",
            "'sample' : 1\n",
            "'text' : 2\n",
            "'will' : 1\n",
            "'be' : 1\n",
            "'used' : 1\n",
            "'to' : 1\n",
            "'demonstrate' : 1\n",
            "'the' : 1\n",
            "'word' : 1\n",
            "'counter' : 1\n"
          ]
        }
      ]
    },
    {
      "cell_type": "code",
      "source": [],
      "metadata": {
        "id": "zw0V5VkBsvfI"
      },
      "execution_count": null,
      "outputs": []
    },
    {
      "cell_type": "markdown",
      "source": [
        "Exercise 5: Check for Palindrome\n",
        "\n",
        "Write a Python function called is_palindrome that takes a string as input and returns True if the string is a palindrome, and False otherwise. A palindrome is a word, phrase, number, or other sequence of characters that reads the same forward and backward, ignoring spaces, punctuation, and capitalization.\n",
        "Example:\n",
        "Input: \"racecar\"\n",
        "Expected Output: True\n",
        "________________________________________\n",
        "Please complete the coding exercises and answer the theoretical questions. Submit your work in a single Python (.ipynb) file for the coding exercises.Ensure your code is well-commented to explain your logic and approach. Good luck!\n"
      ],
      "metadata": {
        "id": "A9gpXAHgwbTG"
      }
    },
    {
      "cell_type": "code",
      "source": [
        "def is_palindrome(s):\n",
        "  s=s.lower()\n",
        "  s= ''.join(char for char in s if char.isalnum())\n",
        "  return s == s[::-1]\n",
        "input_text= 'racecar'\n",
        "result = is_palindrome(input_text)\n",
        "print(f\"is '{input_text}' a palindrome? {result}\")"
      ],
      "metadata": {
        "colab": {
          "base_uri": "https://localhost:8080/"
        },
        "id": "I33tsAuYwdCa",
        "outputId": "ad7cf188-e370-4b5a-b6fa-de6288f79bab"
      },
      "execution_count": 24,
      "outputs": [
        {
          "output_type": "stream",
          "name": "stdout",
          "text": [
            "is 'racecar' a palindrome? True\n"
          ]
        }
      ]
    },
    {
      "cell_type": "code",
      "source": [],
      "metadata": {
        "id": "eRd02-yHywyE"
      },
      "execution_count": null,
      "outputs": []
    }
  ]
}