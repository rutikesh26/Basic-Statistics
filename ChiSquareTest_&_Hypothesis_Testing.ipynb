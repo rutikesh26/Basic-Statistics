{
  "nbformat": 4,
  "nbformat_minor": 0,
  "metadata": {
    "colab": {
      "provenance": []
    },
    "kernelspec": {
      "name": "python3",
      "display_name": "Python 3"
    },
    "language_info": {
      "name": "python"
    }
  },
  "cells": [
    {
      "cell_type": "markdown",
      "source": [
        "### **Chi- Square Test **"
      ],
      "metadata": {
        "id": "2OT7EpfrrTik"
      }
    },
    {
      "cell_type": "code",
      "source": [
        "#State The Hypothesis"
      ],
      "metadata": {
        "id": "If5KJgrppsGO"
      },
      "execution_count": 11,
      "outputs": []
    },
    {
      "cell_type": "code",
      "execution_count": 4,
      "metadata": {
        "id": "eqv9UwE-mvBn"
      },
      "outputs": [],
      "source": [
        "import numpy as np\n",
        "import pandas as pd\n",
        "import scipy.stats as stats"
      ]
    },
    {
      "cell_type": "code",
      "source": [
        "data =  np.array ([[50, 70],\n",
        "                   [80, 100],\n",
        "                   [60, 90],\n",
        "                   [30, 50],\n",
        "                   [20, 50]])"
      ],
      "metadata": {
        "id": "jsjxFEoonnZg"
      },
      "execution_count": 8,
      "outputs": []
    },
    {
      "cell_type": "code",
      "source": [
        "print(f\"Chi-Square Statistic: {chi2}\")\n",
        "print(f\"P-value: {p}\")\n",
        "print(f\"Degrees of Freedom: {dof}\")\n",
        "print(\"Expected Frequencies: \\n\", expected)"
      ],
      "metadata": {
        "colab": {
          "base_uri": "https://localhost:8080/"
        },
        "id": "cRcra4KionBP",
        "outputId": "d9a24d20-1460-48af-9401-0502a08e739b"
      },
      "execution_count": 9,
      "outputs": [
        {
          "output_type": "stream",
          "name": "stdout",
          "text": [
            "Chi-Square Statistic: 5.638227513227513\n",
            "P-value: 0.22784371130697179\n",
            "Degrees of Freedom: 4\n",
            "Expected Frequencies: \n",
            " [[ 48.  72.]\n",
            " [ 72. 108.]\n",
            " [ 60.  90.]\n",
            " [ 32.  48.]\n",
            " [ 28.  42.]]\n"
          ]
        }
      ]
    },
    {
      "cell_type": "code",
      "source": [
        "if p < 0.05:\n",
        "    print(\"Reject the Null Hypothesis (H₀): There is a significant relationship between product type and satisfaction level.\")\n",
        "else:\n",
        "    print(\"Fail to Reject the Null Hypothesis (H₀): There is no significant relationship between product type and satisfaction level.\")"
      ],
      "metadata": {
        "colab": {
          "base_uri": "https://localhost:8080/"
        },
        "id": "fLyj7F4xpBU_",
        "outputId": "4a8a6290-862b-4a49-b702-dd4e15fc2811"
      },
      "execution_count": 10,
      "outputs": [
        {
          "output_type": "stream",
          "name": "stdout",
          "text": [
            "Fail to Reject the Null Hypothesis (H₀): There is no significant relationship between product type and satisfaction level.\n"
          ]
        }
      ]
    },
    {
      "cell_type": "code",
      "source": [],
      "metadata": {
        "id": "FNh6G3ZRpe_1"
      },
      "execution_count": null,
      "outputs": []
    },
    {
      "cell_type": "markdown",
      "source": [
        "2. Compute the Chi-Square Statistic:"
      ],
      "metadata": {
        "id": "iF2FOSDvpqqR"
      }
    },
    {
      "cell_type": "code",
      "source": [
        "# Output the Chi-Square Statistic\n",
        "chi2"
      ],
      "metadata": {
        "colab": {
          "base_uri": "https://localhost:8080/"
        },
        "id": "jmaqu3sOp3wu",
        "outputId": "c49beea6-e918-4c45-ca9f-6045f588938a"
      },
      "execution_count": 12,
      "outputs": [
        {
          "output_type": "execute_result",
          "data": {
            "text/plain": [
              "5.638227513227513"
            ]
          },
          "metadata": {},
          "execution_count": 12
        }
      ]
    },
    {
      "cell_type": "code",
      "source": [
        "#3. Determine the Critical Value:"
      ],
      "metadata": {
        "id": "AoKoHbrPqChL"
      },
      "execution_count": 13,
      "outputs": []
    },
    {
      "cell_type": "code",
      "source": [
        "# Calculate the critical value for 4 degrees of freedom at the 0.05 significance level\n",
        "critical_value = stats.chi2.ppf(1 - 0.05, dof)\n",
        "critical_value"
      ],
      "metadata": {
        "colab": {
          "base_uri": "https://localhost:8080/"
        },
        "id": "YMAH-v2LqNnS",
        "outputId": "87c9d32f-1975-42f0-f0eb-9db5f6d27b49"
      },
      "execution_count": 14,
      "outputs": [
        {
          "output_type": "execute_result",
          "data": {
            "text/plain": [
              "9.487729036781154"
            ]
          },
          "metadata": {},
          "execution_count": 14
        }
      ]
    },
    {
      "cell_type": "code",
      "source": [],
      "metadata": {
        "id": "7DEZ0fZpqar-"
      },
      "execution_count": null,
      "outputs": []
    },
    {
      "cell_type": "markdown",
      "source": [
        "\n",
        "The Chi-Square Statistics is =5.638227513227513\n",
        "\n",
        "\n",
        "The Critical Value is = 9.487729036781154\n",
        "\n"
      ],
      "metadata": {
        "id": "lkR5fdIsqqLo"
      }
    },
    {
      "cell_type": "code",
      "source": [],
      "metadata": {
        "id": "zQLq2Xr8rGI0"
      },
      "execution_count": null,
      "outputs": []
    },
    {
      "cell_type": "markdown",
      "source": [
        "**HYPOTHESIS TESTING**"
      ],
      "metadata": {
        "id": "HMLjk3B9rR_U"
      }
    },
    {
      "cell_type": "code",
      "source": [
        "sample_mean = 3050\n",
        "theoretical_mean = 4000\n",
        "std_dev = 25\n",
        "sample_size = 25"
      ],
      "metadata": {
        "id": "nQAw5przvTZw"
      },
      "execution_count": 26,
      "outputs": []
    },
    {
      "cell_type": "code",
      "source": [
        "standard_error = std_dev / (sample_size ** 0.5)\n",
        "standard_error"
      ],
      "metadata": {
        "colab": {
          "base_uri": "https://localhost:8080/"
        },
        "id": "N5c-qYWxvzZA",
        "outputId": "208f6e9d-dd3d-46f7-c16d-72ba883dca2d"
      },
      "execution_count": 28,
      "outputs": [
        {
          "output_type": "execute_result",
          "data": {
            "text/plain": [
              "5.0"
            ]
          },
          "metadata": {},
          "execution_count": 28
        }
      ]
    },
    {
      "cell_type": "code",
      "source": [
        "z_statistic = (sample_mean - theoretical_mean) / standard_error\n",
        "z_statistic"
      ],
      "metadata": {
        "colab": {
          "base_uri": "https://localhost:8080/"
        },
        "id": "YKKB0RVXv2wn",
        "outputId": "8d00736e-d3e6-407a-c41b-cb3f88c554ee"
      },
      "execution_count": 29,
      "outputs": [
        {
          "output_type": "execute_result",
          "data": {
            "text/plain": [
              "-190.0"
            ]
          },
          "metadata": {},
          "execution_count": 29
        }
      ]
    },
    {
      "cell_type": "code",
      "source": [
        "p_value = 2 * (1 - stats.norm.cdf(abs(z_statistic)))\n",
        "p_value"
      ],
      "metadata": {
        "colab": {
          "base_uri": "https://localhost:8080/"
        },
        "id": "fkBj9DEsv-5d",
        "outputId": "aeb68cbd-d9d5-48cd-e136-90cf92b27be1"
      },
      "execution_count": 30,
      "outputs": [
        {
          "output_type": "execute_result",
          "data": {
            "text/plain": [
              "0.0"
            ]
          },
          "metadata": {},
          "execution_count": 30
        }
      ]
    },
    {
      "cell_type": "code",
      "source": [
        "print(f\"Null Hypothesis (H₀): The mean weekly operating cost is Rs. 4000.\")\n",
        "print(f\"Alternative Hypothesis (H₁): The mean weekly operating cost is not Rs. 4000.\")\n",
        "print(f\"Z-statistic: {z_statistic}\")\n",
        "print(f\"P-value: {p_value}\")"
      ],
      "metadata": {
        "colab": {
          "base_uri": "https://localhost:8080/"
        },
        "id": "ZNxle65IwDjz",
        "outputId": "ca45d33f-0dcb-4b1d-effd-038067999d10"
      },
      "execution_count": 31,
      "outputs": [
        {
          "output_type": "stream",
          "name": "stdout",
          "text": [
            "Null Hypothesis (H₀): The mean weekly operating cost is Rs. 4000.\n",
            "Alternative Hypothesis (H₁): The mean weekly operating cost is not Rs. 4000.\n",
            "Z-statistic: -190.0\n",
            "P-value: 0.0\n"
          ]
        }
      ]
    },
    {
      "cell_type": "code",
      "source": [
        "if p_value < 0.05:\n",
        "    print(\"Reject the Null Hypothesis (H₀): The mean weekly operating cost significantly differs from the theoretical model.\")\n",
        "else:\n",
        "    print(\"Fail to Reject the Null Hypothesis (H₀): The mean weekly operating cost does not significantly differ from the theoretical model.\")"
      ],
      "metadata": {
        "colab": {
          "base_uri": "https://localhost:8080/"
        },
        "id": "cuvl6Wh3wLPg",
        "outputId": "22d3a06e-55d8-49fd-d8d7-1fdf0f8144de"
      },
      "execution_count": 32,
      "outputs": [
        {
          "output_type": "stream",
          "name": "stdout",
          "text": [
            "Reject the Null Hypothesis (H₀): The mean weekly operating cost significantly differs from the theoretical model.\n"
          ]
        }
      ]
    },
    {
      "cell_type": "code",
      "source": [],
      "metadata": {
        "id": "YY83-pkYwX8E"
      },
      "execution_count": null,
      "outputs": []
    },
    {
      "cell_type": "markdown",
      "source": [
        "**2. Calculate the Test Statistic:**"
      ],
      "metadata": {
        "id": "4uvyqGkVwsMp"
      }
    },
    {
      "cell_type": "code",
      "source": [
        "sample_mean = 3050\n",
        "theoretical_mean = 4000\n",
        "std_dev_units = 5 * 25\n",
        "sample_size = 25"
      ],
      "metadata": {
        "id": "WpveVB3ewtil"
      },
      "execution_count": 33,
      "outputs": []
    },
    {
      "cell_type": "code",
      "source": [
        "standard_error = std_dev_units / (sample_size ** 0.5)\n",
        "standard_error"
      ],
      "metadata": {
        "colab": {
          "base_uri": "https://localhost:8080/"
        },
        "id": "xvZeJNv7w8KH",
        "outputId": "55f21de4-5b5e-49a6-b374-6916eba949ea"
      },
      "execution_count": 34,
      "outputs": [
        {
          "output_type": "execute_result",
          "data": {
            "text/plain": [
              "25.0"
            ]
          },
          "metadata": {},
          "execution_count": 34
        }
      ]
    },
    {
      "cell_type": "code",
      "source": [
        "test_statistic = (sample_mean - theoretical_mean) / standard_error\n",
        "test_statistic"
      ],
      "metadata": {
        "colab": {
          "base_uri": "https://localhost:8080/"
        },
        "id": "Gjtsk3kpw__D",
        "outputId": "c4354905-efef-44a0-a903-4dbcb86e708a"
      },
      "execution_count": 35,
      "outputs": [
        {
          "output_type": "execute_result",
          "data": {
            "text/plain": [
              "-38.0"
            ]
          },
          "metadata": {},
          "execution_count": 35
        }
      ]
    },
    {
      "cell_type": "code",
      "source": [],
      "metadata": {
        "id": "2SUNhYiQxDsa"
      },
      "execution_count": null,
      "outputs": []
    },
    {
      "cell_type": "markdown",
      "source": [
        "**3. Determine the Critical Value:**"
      ],
      "metadata": {
        "id": "AtsaHgb9xLYv"
      }
    },
    {
      "cell_type": "code",
      "source": [
        "from scipy.stats import norm"
      ],
      "metadata": {
        "id": "NHZieSMvyLrN"
      },
      "execution_count": 39,
      "outputs": []
    },
    {
      "cell_type": "code",
      "source": [
        "alpha = 0.05"
      ],
      "metadata": {
        "id": "lgeXPEX1xPAW"
      },
      "execution_count": 37,
      "outputs": []
    },
    {
      "cell_type": "code",
      "source": [
        "critical_value = norm.ppf(1 - alpha/2)\n",
        "critical_value"
      ],
      "metadata": {
        "colab": {
          "base_uri": "https://localhost:8080/"
        },
        "id": "RrE-3YMXyCrv",
        "outputId": "c8d07568-f750-407b-f388-ba4228564337"
      },
      "execution_count": 40,
      "outputs": [
        {
          "output_type": "execute_result",
          "data": {
            "text/plain": [
              "1.959963984540054"
            ]
          },
          "metadata": {},
          "execution_count": 40
        }
      ]
    },
    {
      "cell_type": "code",
      "source": [
        "print(f\"The critical value for an alpha level of {alpha} is: {critical_value:.4f}\")"
      ],
      "metadata": {
        "colab": {
          "base_uri": "https://localhost:8080/"
        },
        "id": "cN1eDhsWyHUK",
        "outputId": "27c1d294-8955-41c2-e978-d0e30be66603"
      },
      "execution_count": 41,
      "outputs": [
        {
          "output_type": "stream",
          "name": "stdout",
          "text": [
            "The critical value for an alpha level of 0.05 is: 1.9600\n"
          ]
        }
      ]
    },
    {
      "cell_type": "code",
      "source": [],
      "metadata": {
        "id": "Hg0omep7yP9s"
      },
      "execution_count": null,
      "outputs": []
    },
    {
      "cell_type": "markdown",
      "source": [
        "4. Make a Decision:\n",
        "Compare the test statistic with the critical value to decide whether to reject the null hypothesis"
      ],
      "metadata": {
        "id": "AuVt65Kayq58"
      }
    },
    {
      "cell_type": "code",
      "source": [
        "alpha = 0.05"
      ],
      "metadata": {
        "id": "zlaoCBZwyszo"
      },
      "execution_count": 42,
      "outputs": []
    },
    {
      "cell_type": "code",
      "source": [
        "critical_value = norm.ppf(1 - alpha/2)\n",
        "critical_value"
      ],
      "metadata": {
        "colab": {
          "base_uri": "https://localhost:8080/"
        },
        "id": "jYht_BFpy-af",
        "outputId": "471af845-629f-43bd-95d5-5231c5f34596"
      },
      "execution_count": 43,
      "outputs": [
        {
          "output_type": "execute_result",
          "data": {
            "text/plain": [
              "1.959963984540054"
            ]
          },
          "metadata": {},
          "execution_count": 43
        }
      ]
    },
    {
      "cell_type": "code",
      "source": [
        "test_statistic = -38.0\n",
        "test_statistic"
      ],
      "metadata": {
        "colab": {
          "base_uri": "https://localhost:8080/"
        },
        "id": "SKM2LQAEzCJa",
        "outputId": "e57ed542-f083-442d-f207-beb8ed68c80a"
      },
      "execution_count": 44,
      "outputs": [
        {
          "output_type": "execute_result",
          "data": {
            "text/plain": [
              "-38.0"
            ]
          },
          "metadata": {},
          "execution_count": 44
        }
      ]
    },
    {
      "cell_type": "code",
      "source": [
        "if abs(test_statistic) > critical_value:\n",
        "    decision = \"Reject the null hypothesis\"\n",
        "else:\n",
        "    decision = \"Fail to reject the null hypothesis\"\n",
        "\n",
        "print(f\"Critical Value: {critical_value:.4f}\")\n",
        "print(f\"Test Statistic: {test_statistic:.4f}\")\n",
        "print(f\"Decision: {decision}\")"
      ],
      "metadata": {
        "colab": {
          "base_uri": "https://localhost:8080/"
        },
        "id": "lHGtEOagzTdN",
        "outputId": "540476b0-f05c-4918-c3c2-8dffc1808147"
      },
      "execution_count": 45,
      "outputs": [
        {
          "output_type": "stream",
          "name": "stdout",
          "text": [
            "Critical Value: 1.9600\n",
            "Test Statistic: -38.0000\n",
            "Decision: Reject the null hypothesis\n"
          ]
        }
      ]
    },
    {
      "cell_type": "code",
      "source": [],
      "metadata": {
        "id": "a-IOsvNOzYtx"
      },
      "execution_count": null,
      "outputs": []
    }
  ]
}