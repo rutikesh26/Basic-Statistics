{
 "cells": [
  {
   "cell_type": "code",
   "execution_count": 17,
   "id": "5f53749c",
   "metadata": {},
   "outputs": [],
   "source": [
    "import  pandas as pd\n",
    "import numpy as np\n",
    "import matplotlib.pyplot as plt\n",
    "import seaborn as sns\n",
    "import statsmodels.formula.api as smf\n",
    "import warnings\n",
    "warnings. filterwarnings('ignore')\n"
   ]
  },
  {
   "cell_type": "code",
   "execution_count": 5,
   "id": "8bfa2b51",
   "metadata": {},
   "outputs": [],
   "source": [
    "df=pd.read_csv('ToyotaCorolla - MLR.csv')"
   ]
  },
  {
   "cell_type": "code",
   "execution_count": 6,
   "id": "e3c8622c",
   "metadata": {},
   "outputs": [
    {
     "data": {
      "text/html": [
       "<div>\n",
       "<style scoped>\n",
       "    .dataframe tbody tr th:only-of-type {\n",
       "        vertical-align: middle;\n",
       "    }\n",
       "\n",
       "    .dataframe tbody tr th {\n",
       "        vertical-align: top;\n",
       "    }\n",
       "\n",
       "    .dataframe thead th {\n",
       "        text-align: right;\n",
       "    }\n",
       "</style>\n",
       "<table border=\"1\" class=\"dataframe\">\n",
       "  <thead>\n",
       "    <tr style=\"text-align: right;\">\n",
       "      <th></th>\n",
       "      <th>Price</th>\n",
       "      <th>Age_08_04</th>\n",
       "      <th>KM</th>\n",
       "      <th>Fuel_Type</th>\n",
       "      <th>HP</th>\n",
       "      <th>Automatic</th>\n",
       "      <th>cc</th>\n",
       "      <th>Doors</th>\n",
       "      <th>Cylinders</th>\n",
       "      <th>Gears</th>\n",
       "      <th>Weight</th>\n",
       "    </tr>\n",
       "  </thead>\n",
       "  <tbody>\n",
       "    <tr>\n",
       "      <th>0</th>\n",
       "      <td>13500</td>\n",
       "      <td>23</td>\n",
       "      <td>46986</td>\n",
       "      <td>Diesel</td>\n",
       "      <td>90</td>\n",
       "      <td>0</td>\n",
       "      <td>2000</td>\n",
       "      <td>3</td>\n",
       "      <td>4</td>\n",
       "      <td>5</td>\n",
       "      <td>1165</td>\n",
       "    </tr>\n",
       "    <tr>\n",
       "      <th>1</th>\n",
       "      <td>13750</td>\n",
       "      <td>23</td>\n",
       "      <td>72937</td>\n",
       "      <td>Diesel</td>\n",
       "      <td>90</td>\n",
       "      <td>0</td>\n",
       "      <td>2000</td>\n",
       "      <td>3</td>\n",
       "      <td>4</td>\n",
       "      <td>5</td>\n",
       "      <td>1165</td>\n",
       "    </tr>\n",
       "    <tr>\n",
       "      <th>2</th>\n",
       "      <td>13950</td>\n",
       "      <td>24</td>\n",
       "      <td>41711</td>\n",
       "      <td>Diesel</td>\n",
       "      <td>90</td>\n",
       "      <td>0</td>\n",
       "      <td>2000</td>\n",
       "      <td>3</td>\n",
       "      <td>4</td>\n",
       "      <td>5</td>\n",
       "      <td>1165</td>\n",
       "    </tr>\n",
       "    <tr>\n",
       "      <th>3</th>\n",
       "      <td>14950</td>\n",
       "      <td>26</td>\n",
       "      <td>48000</td>\n",
       "      <td>Diesel</td>\n",
       "      <td>90</td>\n",
       "      <td>0</td>\n",
       "      <td>2000</td>\n",
       "      <td>3</td>\n",
       "      <td>4</td>\n",
       "      <td>5</td>\n",
       "      <td>1165</td>\n",
       "    </tr>\n",
       "    <tr>\n",
       "      <th>4</th>\n",
       "      <td>13750</td>\n",
       "      <td>30</td>\n",
       "      <td>38500</td>\n",
       "      <td>Diesel</td>\n",
       "      <td>90</td>\n",
       "      <td>0</td>\n",
       "      <td>2000</td>\n",
       "      <td>3</td>\n",
       "      <td>4</td>\n",
       "      <td>5</td>\n",
       "      <td>1170</td>\n",
       "    </tr>\n",
       "    <tr>\n",
       "      <th>...</th>\n",
       "      <td>...</td>\n",
       "      <td>...</td>\n",
       "      <td>...</td>\n",
       "      <td>...</td>\n",
       "      <td>...</td>\n",
       "      <td>...</td>\n",
       "      <td>...</td>\n",
       "      <td>...</td>\n",
       "      <td>...</td>\n",
       "      <td>...</td>\n",
       "      <td>...</td>\n",
       "    </tr>\n",
       "    <tr>\n",
       "      <th>1431</th>\n",
       "      <td>7500</td>\n",
       "      <td>69</td>\n",
       "      <td>20544</td>\n",
       "      <td>Petrol</td>\n",
       "      <td>86</td>\n",
       "      <td>0</td>\n",
       "      <td>1300</td>\n",
       "      <td>3</td>\n",
       "      <td>4</td>\n",
       "      <td>5</td>\n",
       "      <td>1025</td>\n",
       "    </tr>\n",
       "    <tr>\n",
       "      <th>1432</th>\n",
       "      <td>10845</td>\n",
       "      <td>72</td>\n",
       "      <td>19000</td>\n",
       "      <td>Petrol</td>\n",
       "      <td>86</td>\n",
       "      <td>0</td>\n",
       "      <td>1300</td>\n",
       "      <td>3</td>\n",
       "      <td>4</td>\n",
       "      <td>5</td>\n",
       "      <td>1015</td>\n",
       "    </tr>\n",
       "    <tr>\n",
       "      <th>1433</th>\n",
       "      <td>8500</td>\n",
       "      <td>71</td>\n",
       "      <td>17016</td>\n",
       "      <td>Petrol</td>\n",
       "      <td>86</td>\n",
       "      <td>0</td>\n",
       "      <td>1300</td>\n",
       "      <td>3</td>\n",
       "      <td>4</td>\n",
       "      <td>5</td>\n",
       "      <td>1015</td>\n",
       "    </tr>\n",
       "    <tr>\n",
       "      <th>1434</th>\n",
       "      <td>7250</td>\n",
       "      <td>70</td>\n",
       "      <td>16916</td>\n",
       "      <td>Petrol</td>\n",
       "      <td>86</td>\n",
       "      <td>0</td>\n",
       "      <td>1300</td>\n",
       "      <td>3</td>\n",
       "      <td>4</td>\n",
       "      <td>5</td>\n",
       "      <td>1015</td>\n",
       "    </tr>\n",
       "    <tr>\n",
       "      <th>1435</th>\n",
       "      <td>6950</td>\n",
       "      <td>76</td>\n",
       "      <td>1</td>\n",
       "      <td>Petrol</td>\n",
       "      <td>110</td>\n",
       "      <td>0</td>\n",
       "      <td>1600</td>\n",
       "      <td>5</td>\n",
       "      <td>4</td>\n",
       "      <td>5</td>\n",
       "      <td>1114</td>\n",
       "    </tr>\n",
       "  </tbody>\n",
       "</table>\n",
       "<p>1436 rows × 11 columns</p>\n",
       "</div>"
      ],
      "text/plain": [
       "      Price  Age_08_04     KM Fuel_Type   HP  Automatic    cc  Doors  \\\n",
       "0     13500         23  46986    Diesel   90          0  2000      3   \n",
       "1     13750         23  72937    Diesel   90          0  2000      3   \n",
       "2     13950         24  41711    Diesel   90          0  2000      3   \n",
       "3     14950         26  48000    Diesel   90          0  2000      3   \n",
       "4     13750         30  38500    Diesel   90          0  2000      3   \n",
       "...     ...        ...    ...       ...  ...        ...   ...    ...   \n",
       "1431   7500         69  20544    Petrol   86          0  1300      3   \n",
       "1432  10845         72  19000    Petrol   86          0  1300      3   \n",
       "1433   8500         71  17016    Petrol   86          0  1300      3   \n",
       "1434   7250         70  16916    Petrol   86          0  1300      3   \n",
       "1435   6950         76      1    Petrol  110          0  1600      5   \n",
       "\n",
       "      Cylinders  Gears  Weight  \n",
       "0             4      5    1165  \n",
       "1             4      5    1165  \n",
       "2             4      5    1165  \n",
       "3             4      5    1165  \n",
       "4             4      5    1170  \n",
       "...         ...    ...     ...  \n",
       "1431          4      5    1025  \n",
       "1432          4      5    1015  \n",
       "1433          4      5    1015  \n",
       "1434          4      5    1015  \n",
       "1435          4      5    1114  \n",
       "\n",
       "[1436 rows x 11 columns]"
      ]
     },
     "execution_count": 6,
     "metadata": {},
     "output_type": "execute_result"
    }
   ],
   "source": [
    "df"
   ]
  },
  {
   "cell_type": "code",
   "execution_count": 7,
   "id": "1343cdd3",
   "metadata": {},
   "outputs": [
    {
     "name": "stdout",
     "output_type": "stream",
     "text": [
      "<class 'pandas.core.frame.DataFrame'>\n",
      "RangeIndex: 1436 entries, 0 to 1435\n",
      "Data columns (total 11 columns):\n",
      " #   Column     Non-Null Count  Dtype \n",
      "---  ------     --------------  ----- \n",
      " 0   Price      1436 non-null   int64 \n",
      " 1   Age_08_04  1436 non-null   int64 \n",
      " 2   KM         1436 non-null   int64 \n",
      " 3   Fuel_Type  1436 non-null   object\n",
      " 4   HP         1436 non-null   int64 \n",
      " 5   Automatic  1436 non-null   int64 \n",
      " 6   cc         1436 non-null   int64 \n",
      " 7   Doors      1436 non-null   int64 \n",
      " 8   Cylinders  1436 non-null   int64 \n",
      " 9   Gears      1436 non-null   int64 \n",
      " 10  Weight     1436 non-null   int64 \n",
      "dtypes: int64(10), object(1)\n",
      "memory usage: 123.5+ KB\n"
     ]
    }
   ],
   "source": [
    "df.info()"
   ]
  },
  {
   "cell_type": "code",
   "execution_count": 8,
   "id": "35ec84bf",
   "metadata": {},
   "outputs": [
    {
     "data": {
      "text/plain": [
       "<Axes: >"
      ]
     },
     "execution_count": 8,
     "metadata": {},
     "output_type": "execute_result"
    },
    {
     "data": {
      "image/png": "[encoded data removed]",
      "text/plain": [
       "<Figure size 640x480 with 1 Axes>"
      ]
     },
     "metadata": {},
     "output_type": "display_data"
    }
   ],
   "source": [
    "sns.boxplot(df['KM'])"
   ]
  },
  {
   "cell_type": "code",
   "execution_count": 9,
   "id": "ceed7503",
   "metadata": {},
   "outputs": [
    {
     "data": {
      "text/plain": [
       "<Axes: >"
      ]
     },
     "execution_count": 9,
     "metadata": {},
     "output_type": "execute_result"
    },
    {
     "data": {
      "image/png": "[encoded data removed]",
      "text/plain": [
       "<Figure size 640x480 with 1 Axes>"
      ]
     },
     "metadata": {},
     "output_type": "display_data"
    }
   ],
   "source": [
    "sns.boxplot(df['Price'])"
   ]
  },
  {
   "cell_type": "code",
   "execution_count": 10,
   "id": "c7226773",
   "metadata": {},
   "outputs": [
    {
     "data": {
      "text/plain": [
       "<Axes: >"
      ]
     },
     "execution_count": 10,
     "metadata": {},
     "output_type": "execute_result"
    },
    {
     "data": {
      "image/png": "[encoded data removed]",
      "text/plain": [
       "<Figure size 640x480 with 1 Axes>"
      ]
     },
     "metadata": {},
     "output_type": "display_data"
    }
   ],
   "source": [
    "sns.boxplot(df['Weight'])"
   ]
  },
  {
   "cell_type": "code",
   "execution_count": 11,
   "id": "c9327944",
   "metadata": {},
   "outputs": [
    {
     "data": {
      "text/plain": [
       "<Axes: xlabel='KM', ylabel='Count'>"
      ]
     },
     "execution_count": 11,
     "metadata": {},
     "output_type": "execute_result"
    },
    {
     "data": {
      "image/png": "[encoded data removed]",
      "text/plain": [
       "<Figure size 640x480 with 1 Axes>"
      ]
     },
     "metadata": {},
     "output_type": "display_data"
    }
   ],
   "source": [
    "sns.histplot(df['KM'],kde=True)"
   ]
  },
  {
   "cell_type": "code",
   "execution_count": 12,
   "id": "e13926e9",
   "metadata": {},
   "outputs": [
    {
     "data": {
      "text/plain": [
       "<Axes: xlabel='Price', ylabel='Count'>"
      ]
     },
     "execution_count": 12,
     "metadata": {},
     "output_type": "execute_result"
    },
    {
     "data": {
      "image/png": "[encoded data removed]",
      "text/plain": [
       "<Figure size 640x480 with 1 Axes>"
      ]
     },
     "metadata": {},
     "output_type": "display_data"
    }
   ],
   "source": [
    "sns.histplot(df['Price'],kde=True)"
   ]
  },
  {
   "cell_type": "code",
   "execution_count": 13,
   "id": "21b24276",
   "metadata": {},
   "outputs": [
    {
     "data": {
      "text/html": [
       "<div>\n",
       "<style scoped>\n",
       "    .dataframe tbody tr th:only-of-type {\n",
       "        vertical-align: middle;\n",
       "    }\n",
       "\n",
       "    .dataframe tbody tr th {\n",
       "        vertical-align: top;\n",
       "    }\n",
       "\n",
       "    .dataframe thead th {\n",
       "        text-align: right;\n",
       "    }\n",
       "</style>\n",
       "<table border=\"1\" class=\"dataframe\">\n",
       "  <thead>\n",
       "    <tr style=\"text-align: right;\">\n",
       "      <th></th>\n",
       "      <th>Price</th>\n",
       "      <th>Age_08_04</th>\n",
       "      <th>KM</th>\n",
       "      <th>HP</th>\n",
       "      <th>Automatic</th>\n",
       "      <th>cc</th>\n",
       "      <th>Doors</th>\n",
       "      <th>Cylinders</th>\n",
       "      <th>Gears</th>\n",
       "      <th>Weight</th>\n",
       "    </tr>\n",
       "  </thead>\n",
       "  <tbody>\n",
       "    <tr>\n",
       "      <th>count</th>\n",
       "      <td>1436.000000</td>\n",
       "      <td>1436.000000</td>\n",
       "      <td>1436.000000</td>\n",
       "      <td>1436.000000</td>\n",
       "      <td>1436.000000</td>\n",
       "      <td>1436.00000</td>\n",
       "      <td>1436.000000</td>\n",
       "      <td>1436.0</td>\n",
       "      <td>1436.000000</td>\n",
       "      <td>1436.00000</td>\n",
       "    </tr>\n",
       "    <tr>\n",
       "      <th>mean</th>\n",
       "      <td>10730.824513</td>\n",
       "      <td>55.947075</td>\n",
       "      <td>68533.259749</td>\n",
       "      <td>101.502089</td>\n",
       "      <td>0.055710</td>\n",
       "      <td>1576.85585</td>\n",
       "      <td>4.033426</td>\n",
       "      <td>4.0</td>\n",
       "      <td>5.026462</td>\n",
       "      <td>1072.45961</td>\n",
       "    </tr>\n",
       "    <tr>\n",
       "      <th>std</th>\n",
       "      <td>3626.964585</td>\n",
       "      <td>18.599988</td>\n",
       "      <td>37506.448872</td>\n",
       "      <td>14.981080</td>\n",
       "      <td>0.229441</td>\n",
       "      <td>424.38677</td>\n",
       "      <td>0.952677</td>\n",
       "      <td>0.0</td>\n",
       "      <td>0.188510</td>\n",
       "      <td>52.64112</td>\n",
       "    </tr>\n",
       "    <tr>\n",
       "      <th>min</th>\n",
       "      <td>4350.000000</td>\n",
       "      <td>1.000000</td>\n",
       "      <td>1.000000</td>\n",
       "      <td>69.000000</td>\n",
       "      <td>0.000000</td>\n",
       "      <td>1300.00000</td>\n",
       "      <td>2.000000</td>\n",
       "      <td>4.0</td>\n",
       "      <td>3.000000</td>\n",
       "      <td>1000.00000</td>\n",
       "    </tr>\n",
       "    <tr>\n",
       "      <th>25%</th>\n",
       "      <td>8450.000000</td>\n",
       "      <td>44.000000</td>\n",
       "      <td>43000.000000</td>\n",
       "      <td>90.000000</td>\n",
       "      <td>0.000000</td>\n",
       "      <td>1400.00000</td>\n",
       "      <td>3.000000</td>\n",
       "      <td>4.0</td>\n",
       "      <td>5.000000</td>\n",
       "      <td>1040.00000</td>\n",
       "    </tr>\n",
       "    <tr>\n",
       "      <th>50%</th>\n",
       "      <td>9900.000000</td>\n",
       "      <td>61.000000</td>\n",
       "      <td>63389.500000</td>\n",
       "      <td>110.000000</td>\n",
       "      <td>0.000000</td>\n",
       "      <td>1600.00000</td>\n",
       "      <td>4.000000</td>\n",
       "      <td>4.0</td>\n",
       "      <td>5.000000</td>\n",
       "      <td>1070.00000</td>\n",
       "    </tr>\n",
       "    <tr>\n",
       "      <th>75%</th>\n",
       "      <td>11950.000000</td>\n",
       "      <td>70.000000</td>\n",
       "      <td>87020.750000</td>\n",
       "      <td>110.000000</td>\n",
       "      <td>0.000000</td>\n",
       "      <td>1600.00000</td>\n",
       "      <td>5.000000</td>\n",
       "      <td>4.0</td>\n",
       "      <td>5.000000</td>\n",
       "      <td>1085.00000</td>\n",
       "    </tr>\n",
       "    <tr>\n",
       "      <th>max</th>\n",
       "      <td>32500.000000</td>\n",
       "      <td>80.000000</td>\n",
       "      <td>243000.000000</td>\n",
       "      <td>192.000000</td>\n",
       "      <td>1.000000</td>\n",
       "      <td>16000.00000</td>\n",
       "      <td>5.000000</td>\n",
       "      <td>4.0</td>\n",
       "      <td>6.000000</td>\n",
       "      <td>1615.00000</td>\n",
       "    </tr>\n",
       "  </tbody>\n",
       "</table>\n",
       "</div>"
      ],
      "text/plain": [
       "              Price    Age_08_04             KM           HP    Automatic  \\\n",
       "count   1436.000000  1436.000000    1436.000000  1436.000000  1436.000000   \n",
       "mean   10730.824513    55.947075   68533.259749   101.502089     0.055710   \n",
       "std     3626.964585    18.599988   37506.448872    14.981080     0.229441   \n",
       "min     4350.000000     1.000000       1.000000    69.000000     0.000000   \n",
       "25%     8450.000000    44.000000   43000.000000    90.000000     0.000000   \n",
       "50%     9900.000000    61.000000   63389.500000   110.000000     0.000000   \n",
       "75%    11950.000000    70.000000   87020.750000   110.000000     0.000000   \n",
       "max    32500.000000    80.000000  243000.000000   192.000000     1.000000   \n",
       "\n",
       "                cc        Doors  Cylinders        Gears      Weight  \n",
       "count   1436.00000  1436.000000     1436.0  1436.000000  1436.00000  \n",
       "mean    1576.85585     4.033426        4.0     5.026462  1072.45961  \n",
       "std      424.38677     0.952677        0.0     0.188510    52.64112  \n",
       "min     1300.00000     2.000000        4.0     3.000000  1000.00000  \n",
       "25%     1400.00000     3.000000        4.0     5.000000  1040.00000  \n",
       "50%     1600.00000     4.000000        4.0     5.000000  1070.00000  \n",
       "75%     1600.00000     5.000000        4.0     5.000000  1085.00000  \n",
       "max    16000.00000     5.000000        4.0     6.000000  1615.00000  "
      ]
     },
     "execution_count": 13,
     "metadata": {},
     "output_type": "execute_result"
    }
   ],
   "source": [
    "df.describe()"
   ]
  },
  {
   "cell_type": "code",
   "execution_count": 18,
   "id": "b3416515",
   "metadata": {},
   "outputs": [
    {
     "data": {
      "text/html": [
       "<div>\n",
       "<style scoped>\n",
       "    .dataframe tbody tr th:only-of-type {\n",
       "        vertical-align: middle;\n",
       "    }\n",
       "\n",
       "    .dataframe tbody tr th {\n",
       "        vertical-align: top;\n",
       "    }\n",
       "\n",
       "    .dataframe thead th {\n",
       "        text-align: right;\n",
       "    }\n",
       "</style>\n",
       "<table border=\"1\" class=\"dataframe\">\n",
       "  <thead>\n",
       "    <tr style=\"text-align: right;\">\n",
       "      <th></th>\n",
       "      <th>Price</th>\n",
       "      <th>Age_08_04</th>\n",
       "      <th>KM</th>\n",
       "      <th>HP</th>\n",
       "      <th>Automatic</th>\n",
       "      <th>cc</th>\n",
       "      <th>Doors</th>\n",
       "      <th>Cylinders</th>\n",
       "      <th>Gears</th>\n",
       "      <th>Weight</th>\n",
       "    </tr>\n",
       "  </thead>\n",
       "  <tbody>\n",
       "    <tr>\n",
       "      <th>Price</th>\n",
       "      <td>1.000000</td>\n",
       "      <td>-0.876590</td>\n",
       "      <td>-0.569960</td>\n",
       "      <td>0.314990</td>\n",
       "      <td>0.033081</td>\n",
       "      <td>0.126389</td>\n",
       "      <td>0.185326</td>\n",
       "      <td>NaN</td>\n",
       "      <td>0.063104</td>\n",
       "      <td>0.581198</td>\n",
       "    </tr>\n",
       "    <tr>\n",
       "      <th>Age_08_04</th>\n",
       "      <td>-0.876590</td>\n",
       "      <td>1.000000</td>\n",
       "      <td>0.505672</td>\n",
       "      <td>-0.156622</td>\n",
       "      <td>0.031717</td>\n",
       "      <td>-0.098084</td>\n",
       "      <td>-0.148359</td>\n",
       "      <td>NaN</td>\n",
       "      <td>-0.005364</td>\n",
       "      <td>-0.470253</td>\n",
       "    </tr>\n",
       "    <tr>\n",
       "      <th>KM</th>\n",
       "      <td>-0.569960</td>\n",
       "      <td>0.505672</td>\n",
       "      <td>1.000000</td>\n",
       "      <td>-0.333538</td>\n",
       "      <td>-0.081854</td>\n",
       "      <td>0.102683</td>\n",
       "      <td>-0.036197</td>\n",
       "      <td>NaN</td>\n",
       "      <td>0.015023</td>\n",
       "      <td>-0.028598</td>\n",
       "    </tr>\n",
       "    <tr>\n",
       "      <th>HP</th>\n",
       "      <td>0.314990</td>\n",
       "      <td>-0.156622</td>\n",
       "      <td>-0.333538</td>\n",
       "      <td>1.000000</td>\n",
       "      <td>0.013144</td>\n",
       "      <td>0.035856</td>\n",
       "      <td>0.092424</td>\n",
       "      <td>NaN</td>\n",
       "      <td>0.209477</td>\n",
       "      <td>0.089614</td>\n",
       "    </tr>\n",
       "    <tr>\n",
       "      <th>Automatic</th>\n",
       "      <td>0.033081</td>\n",
       "      <td>0.031717</td>\n",
       "      <td>-0.081854</td>\n",
       "      <td>0.013144</td>\n",
       "      <td>1.000000</td>\n",
       "      <td>0.066740</td>\n",
       "      <td>-0.027654</td>\n",
       "      <td>NaN</td>\n",
       "      <td>-0.098555</td>\n",
       "      <td>0.057249</td>\n",
       "    </tr>\n",
       "    <tr>\n",
       "      <th>cc</th>\n",
       "      <td>0.126389</td>\n",
       "      <td>-0.098084</td>\n",
       "      <td>0.102683</td>\n",
       "      <td>0.035856</td>\n",
       "      <td>0.066740</td>\n",
       "      <td>1.000000</td>\n",
       "      <td>0.079903</td>\n",
       "      <td>NaN</td>\n",
       "      <td>0.014629</td>\n",
       "      <td>0.335637</td>\n",
       "    </tr>\n",
       "    <tr>\n",
       "      <th>Doors</th>\n",
       "      <td>0.185326</td>\n",
       "      <td>-0.148359</td>\n",
       "      <td>-0.036197</td>\n",
       "      <td>0.092424</td>\n",
       "      <td>-0.027654</td>\n",
       "      <td>0.079903</td>\n",
       "      <td>1.000000</td>\n",
       "      <td>NaN</td>\n",
       "      <td>-0.160141</td>\n",
       "      <td>0.302618</td>\n",
       "    </tr>\n",
       "    <tr>\n",
       "      <th>Cylinders</th>\n",
       "      <td>NaN</td>\n",
       "      <td>NaN</td>\n",
       "      <td>NaN</td>\n",
       "      <td>NaN</td>\n",
       "      <td>NaN</td>\n",
       "      <td>NaN</td>\n",
       "      <td>NaN</td>\n",
       "      <td>NaN</td>\n",
       "      <td>NaN</td>\n",
       "      <td>NaN</td>\n",
       "    </tr>\n",
       "    <tr>\n",
       "      <th>Gears</th>\n",
       "      <td>0.063104</td>\n",
       "      <td>-0.005364</td>\n",
       "      <td>0.015023</td>\n",
       "      <td>0.209477</td>\n",
       "      <td>-0.098555</td>\n",
       "      <td>0.014629</td>\n",
       "      <td>-0.160141</td>\n",
       "      <td>NaN</td>\n",
       "      <td>1.000000</td>\n",
       "      <td>0.020613</td>\n",
       "    </tr>\n",
       "    <tr>\n",
       "      <th>Weight</th>\n",
       "      <td>0.581198</td>\n",
       "      <td>-0.470253</td>\n",
       "      <td>-0.028598</td>\n",
       "      <td>0.089614</td>\n",
       "      <td>0.057249</td>\n",
       "      <td>0.335637</td>\n",
       "      <td>0.302618</td>\n",
       "      <td>NaN</td>\n",
       "      <td>0.020613</td>\n",
       "      <td>1.000000</td>\n",
       "    </tr>\n",
       "  </tbody>\n",
       "</table>\n",
       "</div>"
      ],
      "text/plain": [
       "              Price  Age_08_04        KM        HP  Automatic        cc  \\\n",
       "Price      1.000000  -0.876590 -0.569960  0.314990   0.033081  0.126389   \n",
       "Age_08_04 -0.876590   1.000000  0.505672 -0.156622   0.031717 -0.098084   \n",
       "KM        -0.569960   0.505672  1.000000 -0.333538  -0.081854  0.102683   \n",
       "HP         0.314990  -0.156622 -0.333538  1.000000   0.013144  0.035856   \n",
       "Automatic  0.033081   0.031717 -0.081854  0.013144   1.000000  0.066740   \n",
       "cc         0.126389  -0.098084  0.102683  0.035856   0.066740  1.000000   \n",
       "Doors      0.185326  -0.148359 -0.036197  0.092424  -0.027654  0.079903   \n",
       "Cylinders       NaN        NaN       NaN       NaN        NaN       NaN   \n",
       "Gears      0.063104  -0.005364  0.015023  0.209477  -0.098555  0.014629   \n",
       "Weight     0.581198  -0.470253 -0.028598  0.089614   0.057249  0.335637   \n",
       "\n",
       "              Doors  Cylinders     Gears    Weight  \n",
       "Price      0.185326        NaN  0.063104  0.581198  \n",
       "Age_08_04 -0.148359        NaN -0.005364 -0.470253  \n",
       "KM        -0.036197        NaN  0.015023 -0.028598  \n",
       "HP         0.092424        NaN  0.209477  0.089614  \n",
       "Automatic -0.027654        NaN -0.098555  0.057249  \n",
       "cc         0.079903        NaN  0.014629  0.335637  \n",
       "Doors      1.000000        NaN -0.160141  0.302618  \n",
       "Cylinders       NaN        NaN       NaN       NaN  \n",
       "Gears     -0.160141        NaN  1.000000  0.020613  \n",
       "Weight     0.302618        NaN  0.020613  1.000000  "
      ]
     },
     "execution_count": 18,
     "metadata": {},
     "output_type": "execute_result"
    }
   ],
   "source": [
    "df.corr()"
   ]
  },
  {
   "cell_type": "code",
   "execution_count": 19,
   "id": "d58babe1",
   "metadata": {},
   "outputs": [],
   "source": [
    "df1=df.drop(columns=['Cylinders'])"
   ]
  },
  {
   "cell_type": "code",
   "execution_count": 20,
   "id": "4fe7c5d7",
   "metadata": {},
   "outputs": [
    {
     "data": {
      "text/html": [
       "<div>\n",
       "<style scoped>\n",
       "    .dataframe tbody tr th:only-of-type {\n",
       "        vertical-align: middle;\n",
       "    }\n",
       "\n",
       "    .dataframe tbody tr th {\n",
       "        vertical-align: top;\n",
       "    }\n",
       "\n",
       "    .dataframe thead th {\n",
       "        text-align: right;\n",
       "    }\n",
       "</style>\n",
       "<table border=\"1\" class=\"dataframe\">\n",
       "  <thead>\n",
       "    <tr style=\"text-align: right;\">\n",
       "      <th></th>\n",
       "      <th>Price</th>\n",
       "      <th>Age_08_04</th>\n",
       "      <th>KM</th>\n",
       "      <th>Fuel_Type</th>\n",
       "      <th>HP</th>\n",
       "      <th>Automatic</th>\n",
       "      <th>cc</th>\n",
       "      <th>Doors</th>\n",
       "      <th>Gears</th>\n",
       "      <th>Weight</th>\n",
       "    </tr>\n",
       "  </thead>\n",
       "  <tbody>\n",
       "    <tr>\n",
       "      <th>0</th>\n",
       "      <td>13500</td>\n",
       "      <td>23</td>\n",
       "      <td>46986</td>\n",
       "      <td>Diesel</td>\n",
       "      <td>90</td>\n",
       "      <td>0</td>\n",
       "      <td>2000</td>\n",
       "      <td>3</td>\n",
       "      <td>5</td>\n",
       "      <td>1165</td>\n",
       "    </tr>\n",
       "    <tr>\n",
       "      <th>1</th>\n",
       "      <td>13750</td>\n",
       "      <td>23</td>\n",
       "      <td>72937</td>\n",
       "      <td>Diesel</td>\n",
       "      <td>90</td>\n",
       "      <td>0</td>\n",
       "      <td>2000</td>\n",
       "      <td>3</td>\n",
       "      <td>5</td>\n",
       "      <td>1165</td>\n",
       "    </tr>\n",
       "    <tr>\n",
       "      <th>2</th>\n",
       "      <td>13950</td>\n",
       "      <td>24</td>\n",
       "      <td>41711</td>\n",
       "      <td>Diesel</td>\n",
       "      <td>90</td>\n",
       "      <td>0</td>\n",
       "      <td>2000</td>\n",
       "      <td>3</td>\n",
       "      <td>5</td>\n",
       "      <td>1165</td>\n",
       "    </tr>\n",
       "    <tr>\n",
       "      <th>3</th>\n",
       "      <td>14950</td>\n",
       "      <td>26</td>\n",
       "      <td>48000</td>\n",
       "      <td>Diesel</td>\n",
       "      <td>90</td>\n",
       "      <td>0</td>\n",
       "      <td>2000</td>\n",
       "      <td>3</td>\n",
       "      <td>5</td>\n",
       "      <td>1165</td>\n",
       "    </tr>\n",
       "    <tr>\n",
       "      <th>4</th>\n",
       "      <td>13750</td>\n",
       "      <td>30</td>\n",
       "      <td>38500</td>\n",
       "      <td>Diesel</td>\n",
       "      <td>90</td>\n",
       "      <td>0</td>\n",
       "      <td>2000</td>\n",
       "      <td>3</td>\n",
       "      <td>5</td>\n",
       "      <td>1170</td>\n",
       "    </tr>\n",
       "    <tr>\n",
       "      <th>...</th>\n",
       "      <td>...</td>\n",
       "      <td>...</td>\n",
       "      <td>...</td>\n",
       "      <td>...</td>\n",
       "      <td>...</td>\n",
       "      <td>...</td>\n",
       "      <td>...</td>\n",
       "      <td>...</td>\n",
       "      <td>...</td>\n",
       "      <td>...</td>\n",
       "    </tr>\n",
       "    <tr>\n",
       "      <th>1431</th>\n",
       "      <td>7500</td>\n",
       "      <td>69</td>\n",
       "      <td>20544</td>\n",
       "      <td>Petrol</td>\n",
       "      <td>86</td>\n",
       "      <td>0</td>\n",
       "      <td>1300</td>\n",
       "      <td>3</td>\n",
       "      <td>5</td>\n",
       "      <td>1025</td>\n",
       "    </tr>\n",
       "    <tr>\n",
       "      <th>1432</th>\n",
       "      <td>10845</td>\n",
       "      <td>72</td>\n",
       "      <td>19000</td>\n",
       "      <td>Petrol</td>\n",
       "      <td>86</td>\n",
       "      <td>0</td>\n",
       "      <td>1300</td>\n",
       "      <td>3</td>\n",
       "      <td>5</td>\n",
       "      <td>1015</td>\n",
       "    </tr>\n",
       "    <tr>\n",
       "      <th>1433</th>\n",
       "      <td>8500</td>\n",
       "      <td>71</td>\n",
       "      <td>17016</td>\n",
       "      <td>Petrol</td>\n",
       "      <td>86</td>\n",
       "      <td>0</td>\n",
       "      <td>1300</td>\n",
       "      <td>3</td>\n",
       "      <td>5</td>\n",
       "      <td>1015</td>\n",
       "    </tr>\n",
       "    <tr>\n",
       "      <th>1434</th>\n",
       "      <td>7250</td>\n",
       "      <td>70</td>\n",
       "      <td>16916</td>\n",
       "      <td>Petrol</td>\n",
       "      <td>86</td>\n",
       "      <td>0</td>\n",
       "      <td>1300</td>\n",
       "      <td>3</td>\n",
       "      <td>5</td>\n",
       "      <td>1015</td>\n",
       "    </tr>\n",
       "    <tr>\n",
       "      <th>1435</th>\n",
       "      <td>6950</td>\n",
       "      <td>76</td>\n",
       "      <td>1</td>\n",
       "      <td>Petrol</td>\n",
       "      <td>110</td>\n",
       "      <td>0</td>\n",
       "      <td>1600</td>\n",
       "      <td>5</td>\n",
       "      <td>5</td>\n",
       "      <td>1114</td>\n",
       "    </tr>\n",
       "  </tbody>\n",
       "</table>\n",
       "<p>1436 rows × 10 columns</p>\n",
       "</div>"
      ],
      "text/plain": [
       "      Price  Age_08_04     KM Fuel_Type   HP  Automatic    cc  Doors  Gears  \\\n",
       "0     13500         23  46986    Diesel   90          0  2000      3      5   \n",
       "1     13750         23  72937    Diesel   90          0  2000      3      5   \n",
       "2     13950         24  41711    Diesel   90          0  2000      3      5   \n",
       "3     14950         26  48000    Diesel   90          0  2000      3      5   \n",
       "4     13750         30  38500    Diesel   90          0  2000      3      5   \n",
       "...     ...        ...    ...       ...  ...        ...   ...    ...    ...   \n",
       "1431   7500         69  20544    Petrol   86          0  1300      3      5   \n",
       "1432  10845         72  19000    Petrol   86          0  1300      3      5   \n",
       "1433   8500         71  17016    Petrol   86          0  1300      3      5   \n",
       "1434   7250         70  16916    Petrol   86          0  1300      3      5   \n",
       "1435   6950         76      1    Petrol  110          0  1600      5      5   \n",
       "\n",
       "      Weight  \n",
       "0       1165  \n",
       "1       1165  \n",
       "2       1165  \n",
       "3       1165  \n",
       "4       1170  \n",
       "...      ...  \n",
       "1431    1025  \n",
       "1432    1015  \n",
       "1433    1015  \n",
       "1434    1015  \n",
       "1435    1114  \n",
       "\n",
       "[1436 rows x 10 columns]"
      ]
     },
     "execution_count": 20,
     "metadata": {},
     "output_type": "execute_result"
    }
   ],
   "source": [
    "df1"
   ]
  },
  {
   "cell_type": "code",
   "execution_count": 22,
   "id": "8f81b1f2",
   "metadata": {},
   "outputs": [
    {
     "data": {
      "text/plain": [
       "Index(['Price', 'Age_08_04', 'KM', 'Fuel_Type', 'HP', 'Automatic', 'cc',\n",
       "       'Doors', 'Gears', 'Weight'],\n",
       "      dtype='object')"
      ]
     },
     "execution_count": 22,
     "metadata": {},
     "output_type": "execute_result"
    }
   ],
   "source": [
    "df1.columns"
   ]
  },
  {
   "cell_type": "code",
   "execution_count": 25,
   "id": "cfc69418",
   "metadata": {},
   "outputs": [
    {
     "data": {
      "text/html": [
       "<table class=\"simpletable\">\n",
       "<caption>OLS Regression Results</caption>\n",
       "<tr>\n",
       "  <th>Dep. Variable:</th>           <td>KM</td>        <th>  R-squared:         </th> <td>   0.555</td> \n",
       "</tr>\n",
       "<tr>\n",
       "  <th>Model:</th>                   <td>OLS</td>       <th>  Adj. R-squared:    </th> <td>   0.551</td> \n",
       "</tr>\n",
       "<tr>\n",
       "  <th>Method:</th>             <td>Least Squares</td>  <th>  F-statistic:       </th> <td>   177.4</td> \n",
       "</tr>\n",
       "<tr>\n",
       "  <th>Date:</th>             <td>Fri, 06 Sep 2024</td> <th>  Prob (F-statistic):</th> <td>6.20e-242</td>\n",
       "</tr>\n",
       "<tr>\n",
       "  <th>Time:</th>                 <td>11:16:07</td>     <th>  Log-Likelihood:    </th> <td> -16581.</td> \n",
       "</tr>\n",
       "<tr>\n",
       "  <th>No. Observations:</th>      <td>  1436</td>      <th>  AIC:               </th> <td>3.318e+04</td>\n",
       "</tr>\n",
       "<tr>\n",
       "  <th>Df Residuals:</th>          <td>  1425</td>      <th>  BIC:               </th> <td>3.324e+04</td>\n",
       "</tr>\n",
       "<tr>\n",
       "  <th>Df Model:</th>              <td>    10</td>      <th>                     </th>     <td> </td>    \n",
       "</tr>\n",
       "<tr>\n",
       "  <th>Covariance Type:</th>      <td>nonrobust</td>    <th>                     </th>     <td> </td>    \n",
       "</tr>\n",
       "</table>\n",
       "<table class=\"simpletable\">\n",
       "<tr>\n",
       "           <td></td>              <th>coef</th>     <th>std err</th>      <th>t</th>      <th>P>|t|</th>  <th>[0.025</th>    <th>0.975]</th>  \n",
       "</tr>\n",
       "<tr>\n",
       "  <th>Intercept</th>           <td> 9146.5250</td> <td> 2.91e+04</td> <td>    0.314</td> <td> 0.754</td> <td> -4.8e+04</td> <td> 6.63e+04</td>\n",
       "</tr>\n",
       "<tr>\n",
       "  <th>Fuel_Type[T.Diesel]</th> <td> 7053.6064</td> <td> 7189.679</td> <td>    0.981</td> <td> 0.327</td> <td>-7049.885</td> <td> 2.12e+04</td>\n",
       "</tr>\n",
       "<tr>\n",
       "  <th>Fuel_Type[T.Petrol]</th> <td> -4.57e+04</td> <td> 6268.823</td> <td>   -7.290</td> <td> 0.000</td> <td> -5.8e+04</td> <td>-3.34e+04</td>\n",
       "</tr>\n",
       "<tr>\n",
       "  <th>Price</th>               <td>   -6.1791</td> <td>    0.470</td> <td>  -13.154</td> <td> 0.000</td> <td>   -7.101</td> <td>   -5.258</td>\n",
       "</tr>\n",
       "<tr>\n",
       "  <th>Age_08_04</th>           <td>  161.7751</td> <td>   78.829</td> <td>    2.052</td> <td> 0.040</td> <td>    7.142</td> <td>  316.408</td>\n",
       "</tr>\n",
       "<tr>\n",
       "  <th>HP</th>                  <td>  162.6196</td> <td>   68.004</td> <td>    2.391</td> <td> 0.017</td> <td>   29.221</td> <td>  296.018</td>\n",
       "</tr>\n",
       "<tr>\n",
       "  <th>Automatic</th>           <td>-4118.3935</td> <td> 3025.499</td> <td>   -1.361</td> <td> 0.174</td> <td>-1.01e+04</td> <td> 1816.516</td>\n",
       "</tr>\n",
       "<tr>\n",
       "  <th>cc</th>                  <td>    0.9589</td> <td>    1.729</td> <td>    0.555</td> <td> 0.579</td> <td>   -2.432</td> <td>    4.350</td>\n",
       "</tr>\n",
       "<tr>\n",
       "  <th>Doors</th>               <td> 2175.1601</td> <td>  766.166</td> <td>    2.839</td> <td> 0.005</td> <td>  672.226</td> <td> 3678.094</td>\n",
       "</tr>\n",
       "<tr>\n",
       "  <th>Gears</th>               <td> 1.434e+04</td> <td> 3712.065</td> <td>    3.863</td> <td> 0.000</td> <td> 7056.654</td> <td> 2.16e+04</td>\n",
       "</tr>\n",
       "<tr>\n",
       "  <th>Weight</th>              <td>   53.5898</td> <td>   25.069</td> <td>    2.138</td> <td> 0.033</td> <td>    4.414</td> <td>  102.766</td>\n",
       "</tr>\n",
       "</table>\n",
       "<table class=\"simpletable\">\n",
       "<tr>\n",
       "  <th>Omnibus:</th>       <td>86.254</td> <th>  Durbin-Watson:     </th> <td>   0.679</td>\n",
       "</tr>\n",
       "<tr>\n",
       "  <th>Prob(Omnibus):</th> <td> 0.000</td> <th>  Jarque-Bera (JB):  </th> <td> 168.375</td>\n",
       "</tr>\n",
       "<tr>\n",
       "  <th>Skew:</th>          <td> 0.411</td> <th>  Prob(JB):          </th> <td>2.74e-37</td>\n",
       "</tr>\n",
       "<tr>\n",
       "  <th>Kurtosis:</th>      <td> 4.462</td> <th>  Cond. No.          </th> <td>5.07e+05</td>\n",
       "</tr>\n",
       "</table><br/><br/>Notes:<br/>[1] Standard Errors assume that the covariance matrix of the errors is correctly specified.<br/>[2] The condition number is large, 5.07e+05. This might indicate that there are<br/>strong multicollinearity or other numerical problems."
      ],
      "text/plain": [
       "<class 'statsmodels.iolib.summary.Summary'>\n",
       "\"\"\"\n",
       "                            OLS Regression Results                            \n",
       "==============================================================================\n",
       "Dep. Variable:                     KM   R-squared:                       0.555\n",
       "Model:                            OLS   Adj. R-squared:                  0.551\n",
       "Method:                 Least Squares   F-statistic:                     177.4\n",
       "Date:                Fri, 06 Sep 2024   Prob (F-statistic):          6.20e-242\n",
       "Time:                        11:16:07   Log-Likelihood:                -16581.\n",
       "No. Observations:                1436   AIC:                         3.318e+04\n",
       "Df Residuals:                    1425   BIC:                         3.324e+04\n",
       "Df Model:                          10                                         \n",
       "Covariance Type:            nonrobust                                         \n",
       "=======================================================================================\n",
       "                          coef    std err          t      P>|t|      [0.025      0.975]\n",
       "---------------------------------------------------------------------------------------\n",
       "Intercept            9146.5250   2.91e+04      0.314      0.754    -4.8e+04    6.63e+04\n",
       "Fuel_Type[T.Diesel]  7053.6064   7189.679      0.981      0.327   -7049.885    2.12e+04\n",
       "Fuel_Type[T.Petrol]  -4.57e+04   6268.823     -7.290      0.000    -5.8e+04   -3.34e+04\n",
       "Price                  -6.1791      0.470    -13.154      0.000      -7.101      -5.258\n",
       "Age_08_04             161.7751     78.829      2.052      0.040       7.142     316.408\n",
       "HP                    162.6196     68.004      2.391      0.017      29.221     296.018\n",
       "Automatic           -4118.3935   3025.499     -1.361      0.174   -1.01e+04    1816.516\n",
       "cc                      0.9589      1.729      0.555      0.579      -2.432       4.350\n",
       "Doors                2175.1601    766.166      2.839      0.005     672.226    3678.094\n",
       "Gears                1.434e+04   3712.065      3.863      0.000    7056.654    2.16e+04\n",
       "Weight                 53.5898     25.069      2.138      0.033       4.414     102.766\n",
       "==============================================================================\n",
       "Omnibus:                       86.254   Durbin-Watson:                   0.679\n",
       "Prob(Omnibus):                  0.000   Jarque-Bera (JB):              168.375\n",
       "Skew:                           0.411   Prob(JB):                     2.74e-37\n",
       "Kurtosis:                       4.462   Cond. No.                     5.07e+05\n",
       "==============================================================================\n",
       "\n",
       "Notes:\n",
       "[1] Standard Errors assume that the covariance matrix of the errors is correctly specified.\n",
       "[2] The condition number is large, 5.07e+05. This might indicate that there are\n",
       "strong multicollinearity or other numerical problems.\n",
       "\"\"\""
      ]
     },
     "execution_count": 25,
     "metadata": {},
     "output_type": "execute_result"
    }
   ],
   "source": [
    "model=smf.ols('KM~Price+Age_08_04+Fuel_Type+HP+Automatic+cc+Doors+Gears+Weight',data=df1).fit()\n",
    "model.summary()"
   ]
  },
  {
   "cell_type": "code",
   "execution_count": 26,
   "id": "523de32b",
   "metadata": {},
   "outputs": [
    {
     "data": {
      "text/plain": [
       "Intercept              7.536172e-01\n",
       "Fuel_Type[T.Diesel]    3.267228e-01\n",
       "Fuel_Type[T.Petrol]    5.126225e-13\n",
       "Price                  2.205339e-37\n",
       "Age_08_04              4.032951e-02\n",
       "HP                     1.691691e-02\n",
       "Automatic              1.736569e-01\n",
       "cc                     5.792018e-01\n",
       "Doors                  4.589451e-03\n",
       "Gears                  1.172019e-04\n",
       "Weight                 3.271168e-02\n",
       "dtype: float64"
      ]
     },
     "execution_count": 26,
     "metadata": {},
     "output_type": "execute_result"
    }
   ],
   "source": [
    "model.pvalues"
   ]
  },
  {
   "cell_type": "code",
   "execution_count": 31,
   "id": "6634665b",
   "metadata": {},
   "outputs": [
    {
     "data": {
      "text/plain": [
       "Intercept               0.313934\n",
       "Fuel_Type[T.Diesel]     0.981074\n",
       "Fuel_Type[T.Petrol]    -7.289797\n",
       "Price                 -13.154198\n",
       "Age_08_04               2.052232\n",
       "HP                      2.391322\n",
       "Automatic              -1.361228\n",
       "cc                      0.554678\n",
       "Doors                   2.839020\n",
       "Gears                   3.862635\n",
       "Weight                  2.137690\n",
       "dtype: float64"
      ]
     },
     "execution_count": 31,
     "metadata": {},
     "output_type": "execute_result"
    }
   ],
   "source": [
    "model.tvalues"
   ]
  },
  {
   "cell_type": "code",
   "execution_count": 33,
   "id": "632d2bb1",
   "metadata": {},
   "outputs": [],
   "source": [
    "df1['predicted']=model.fittedvalues"
   ]
  },
  {
   "cell_type": "code",
   "execution_count": 35,
   "id": "1bc1e375",
   "metadata": {},
   "outputs": [
    {
     "data": {
      "text/plain": [
       "0       93705.935001\n",
       "1       92161.160061\n",
       "2       91087.115164\n",
       "3       85231.565515\n",
       "4       93561.534238\n",
       "            ...     \n",
       "1431    76645.875876\n",
       "1432    55926.214774\n",
       "1433    70254.428661\n",
       "1434    77816.528308\n",
       "1435    94487.149027\n",
       "Name: predicted, Length: 1436, dtype: float64"
      ]
     },
     "execution_count": 35,
     "metadata": {},
     "output_type": "execute_result"
    }
   ],
   "source": [
    "df1['predicted']"
   ]
  },
  {
   "cell_type": "code",
   "execution_count": 39,
   "id": "b6568953",
   "metadata": {},
   "outputs": [],
   "source": [
    "df1['error']=model.resid"
   ]
  },
  {
   "cell_type": "code",
   "execution_count": 40,
   "id": "1b1fac5b",
   "metadata": {},
   "outputs": [
    {
     "data": {
      "text/plain": [
       "0      -46719.935001\n",
       "1      -19224.160061\n",
       "2      -49376.115164\n",
       "3      -37231.565515\n",
       "4      -55061.534238\n",
       "            ...     \n",
       "1431   -56101.875876\n",
       "1432   -36926.214774\n",
       "1433   -53238.428661\n",
       "1434   -60900.528308\n",
       "1435   -94486.149027\n",
       "Name: error, Length: 1436, dtype: float64"
      ]
     },
     "execution_count": 40,
     "metadata": {},
     "output_type": "execute_result"
    }
   ],
   "source": [
    "df1['error']"
   ]
  },
  {
   "cell_type": "code",
   "execution_count": 71,
   "id": "99aae54f",
   "metadata": {},
   "outputs": [
    {
     "data": {
      "text/plain": [
       "0       2.182752e+09\n",
       "1       3.695683e+08\n",
       "2       2.438001e+09\n",
       "3       1.386189e+09\n",
       "4       3.031773e+09\n",
       "            ...     \n",
       "1431    3.147420e+09\n",
       "1432    1.363545e+09\n",
       "1433    2.834330e+09\n",
       "1434    3.708874e+09\n",
       "1435    8.927632e+09\n",
       "Name: error_sq, Length: 1436, dtype: float64"
      ]
     },
     "execution_count": 71,
     "metadata": {},
     "output_type": "execute_result"
    }
   ],
   "source": [
    "df1['error_sq']=model.resid**2\n",
    "df1['error_sq']"
   ]
  },
  {
   "cell_type": "markdown",
   "id": "03fb10fe",
   "metadata": {},
   "source": [
    " "
   ]
  },
  {
   "cell_type": "code",
   "execution_count": 72,
   "id": "e79364a6",
   "metadata": {},
   "outputs": [],
   "source": [
    "mean_sqr_error=df['error_sq'].mean()"
   ]
  },
  {
   "cell_type": "code",
   "execution_count": 73,
   "id": "7e8a9053",
   "metadata": {},
   "outputs": [
    {
     "data": {
      "text/plain": [
       "626209827.6688088"
      ]
     },
     "execution_count": 73,
     "metadata": {},
     "output_type": "execute_result"
    }
   ],
   "source": [
    "mean_sqr_error"
   ]
  },
  {
   "cell_type": "code",
   "execution_count": 74,
   "id": "762fe1e2",
   "metadata": {},
   "outputs": [],
   "source": [
    "root_mean_sqr=np.sqrt(mean_sqr_error)"
   ]
  },
  {
   "cell_type": "code",
   "execution_count": 75,
   "id": "d13465db",
   "metadata": {},
   "outputs": [
    {
     "data": {
      "text/plain": [
       "25024.184855231724"
      ]
     },
     "execution_count": 75,
     "metadata": {},
     "output_type": "execute_result"
    }
   ],
   "source": [
    "root_mean_sqr"
   ]
  },
  {
   "cell_type": "code",
   "execution_count": 51,
   "id": "8feb835a",
   "metadata": {},
   "outputs": [],
   "source": [
    "#model"
   ]
  },
  {
   "cell_type": "code",
   "execution_count": 52,
   "id": "ecb1ae43",
   "metadata": {},
   "outputs": [
    {
     "name": "stdout",
     "output_type": "stream",
     "text": [
      "Intercept               True\n",
      "Fuel_Type[T.Diesel]     True\n",
      "Fuel_Type[T.Petrol]    False\n",
      "Price                  False\n",
      "Age_08_04              False\n",
      "HP                     False\n",
      "Automatic               True\n",
      "cc                      True\n",
      "Doors                  False\n",
      "Gears                  False\n",
      "Weight                 False\n",
      "dtype: bool\n"
     ]
    }
   ],
   "source": [
    "print(model.pvalues>0.05)"
   ]
  },
  {
   "cell_type": "code",
   "execution_count": 53,
   "id": "e04e38ca",
   "metadata": {},
   "outputs": [
    {
     "data": {
      "text/plain": [
       "Index(['Price', 'Age_08_04', 'KM', 'Fuel_Type', 'HP', 'Automatic', 'cc',\n",
       "       'Doors', 'Gears', 'Weight', 'predicted', 'error'],\n",
       "      dtype='object')"
      ]
     },
     "execution_count": 53,
     "metadata": {},
     "output_type": "execute_result"
    }
   ],
   "source": [
    "df1.columns"
   ]
  },
  {
   "cell_type": "code",
   "execution_count": 55,
   "id": "2e96f8c1",
   "metadata": {},
   "outputs": [],
   "source": [
    "model_fuel=smf.ols('KM~Fuel_Type',data=df1).fit()"
   ]
  },
  {
   "cell_type": "code",
   "execution_count": 56,
   "id": "fdb215de",
   "metadata": {},
   "outputs": [
    {
     "data": {
      "text/plain": [
       "Intercept              7.815411e-44\n",
       "Fuel_Type[T.Diesel]    4.957522e-01\n",
       "Fuel_Type[T.Petrol]    3.004662e-11\n",
       "dtype: float64"
      ]
     },
     "execution_count": 56,
     "metadata": {},
     "output_type": "execute_result"
    }
   ],
   "source": [
    "model_fuel.pvalues"
   ]
  },
  {
   "cell_type": "code",
   "execution_count": 63,
   "id": "eb8a1907",
   "metadata": {},
   "outputs": [],
   "source": [
    "model_fuel_sqr_error=model_fuel.resid**2"
   ]
  },
  {
   "cell_type": "code",
   "execution_count": 64,
   "id": "71fce553",
   "metadata": {},
   "outputs": [
    {
     "data": {
      "text/plain": [
       "1141626461.568614"
      ]
     },
     "execution_count": 64,
     "metadata": {},
     "output_type": "execute_result"
    }
   ],
   "source": [
    "model_fuel_sqr_error.mean()"
   ]
  },
  {
   "cell_type": "code",
   "execution_count": 65,
   "id": "6315ae97",
   "metadata": {},
   "outputs": [],
   "source": [
    "model_auto=smf.ols('KM~Automatic',data=df1).fit()"
   ]
  },
  {
   "cell_type": "code",
   "execution_count": 66,
   "id": "c92307ab",
   "metadata": {},
   "outputs": [
    {
     "data": {
      "text/plain": [
       "Intercept    0.000000\n",
       "Automatic    0.001907\n",
       "dtype: float64"
      ]
     },
     "execution_count": 66,
     "metadata": {},
     "output_type": "execute_result"
    }
   ],
   "source": [
    "model_auto.pvalues"
   ]
  },
  {
   "cell_type": "code",
   "execution_count": 68,
   "id": "e1fc5057",
   "metadata": {},
   "outputs": [
    {
     "data": {
      "text/plain": [
       "Intercept    1.745882e-43\n",
       "cc           9.697238e-05\n",
       "dtype: float64"
      ]
     },
     "execution_count": 68,
     "metadata": {},
     "output_type": "execute_result"
    }
   ],
   "source": [
    "model_cc=smf.ols('KM~cc',data=df1).fit()\n",
    "model_cc.pvalues"
   ]
  },
  {
   "cell_type": "code",
   "execution_count": 69,
   "id": "a74301ac",
   "metadata": {},
   "outputs": [],
   "source": [
    "##vif"
   ]
  },
  {
   "cell_type": "code",
   "execution_count": 82,
   "id": "b103f939",
   "metadata": {},
   "outputs": [
    {
     "data": {
      "text/plain": [
       "6.60086305167769"
      ]
     },
     "execution_count": 82,
     "metadata": {},
     "output_type": "execute_result"
    }
   ],
   "source": [
    "rsq_price=smf.ols('Price~Age_08_04+Fuel_Type+HP+Automatic+cc+Doors+Gears+Weight',data=df1).fit().rsquared\n",
    "vif_price=1/(1-rsq_price)\n",
    "vif_price"
   ]
  },
  {
   "cell_type": "code",
   "execution_count": 85,
   "id": "941460b8",
   "metadata": {},
   "outputs": [],
   "source": [
    "rsq_age=smf.ols('Age_08_04~Price+Fuel_Type+HP+Automatic+cc+Doors+Gears+Weight',data=df1).fit().rsquared\n",
    "vif_age=1/(1-rsq_age)"
   ]
  },
  {
   "cell_type": "code",
   "execution_count": 86,
   "id": "5e5be631",
   "metadata": {},
   "outputs": [
    {
     "data": {
      "text/plain": [
       "4.888641295822347"
      ]
     },
     "execution_count": 86,
     "metadata": {},
     "output_type": "execute_result"
    }
   ],
   "source": [
    "vif_age"
   ]
  },
  {
   "cell_type": "code",
   "execution_count": 91,
   "id": "2fef0269",
   "metadata": {},
   "outputs": [
    {
     "data": {
      "text/plain": [
       "2.360198939675478"
      ]
     },
     "execution_count": 91,
     "metadata": {},
     "output_type": "execute_result"
    }
   ],
   "source": [
    "rsq_hp=smf.ols('HP~Age_08_04+Fuel_Type+Price+Automatic+cc+Doors+Gears+Weight',data=df1).fit().rsquared\n",
    "vif_hp=1/(1-rsq_hp)\n",
    "vif_hp"
   ]
  },
  {
   "cell_type": "code",
   "execution_count": 94,
   "id": "67b23a51",
   "metadata": {},
   "outputs": [
    {
     "data": {
      "text/plain": [
       "1.0957961968657894"
      ]
     },
     "execution_count": 94,
     "metadata": {},
     "output_type": "execute_result"
    }
   ],
   "source": [
    "rsq_auto=smf.ols('Automatic~Age_08_04+Fuel_Type+Price+HP+cc+Doors+Gears+Weight',data=df1).fit().rsquared\n",
    "vif_auto=1/(1-rsq_auto)\n",
    "vif_auto"
   ]
  },
  {
   "cell_type": "code",
   "execution_count": 98,
   "id": "89dce24c",
   "metadata": {},
   "outputs": [
    {
     "data": {
      "text/plain": [
       "1.2239411233932798"
      ]
     },
     "execution_count": 98,
     "metadata": {},
     "output_type": "execute_result"
    }
   ],
   "source": [
    "rsq_cc=smf.ols('cc~Price+Fuel_Type+HP+Automatic+Age_08_04+Doors+Gears+Weight',data=df1).fit().rsquared\n",
    "vif_cc=1/(1-rsq_cc)\n",
    "vif_cc"
   ]
  },
  {
   "cell_type": "code",
   "execution_count": 101,
   "id": "8b9f8f6c",
   "metadata": {},
   "outputs": [
    {
     "data": {
      "text/plain": [
       "1.2115157387336575"
      ]
     },
     "execution_count": 101,
     "metadata": {},
     "output_type": "execute_result"
    }
   ],
   "source": [
    "rsq_doors=smf.ols('Doors~Age_08_04+Fuel_Type+HP+Automatic+cc+Price+Gears+Weight',data=df1).fit().rsquared\n",
    "vif_doors=1/(1-rsq_doors)\n",
    "vif_doors"
   ]
  },
  {
   "cell_type": "code",
   "execution_count": 103,
   "id": "0b5188f2",
   "metadata": {},
   "outputs": [
    {
     "data": {
      "text/plain": [
       "1.1135104779228238"
      ]
     },
     "execution_count": 103,
     "metadata": {},
     "output_type": "execute_result"
    }
   ],
   "source": [
    "rsq_gears=smf.ols('Gears~Age_08_04+Fuel_Type+HP+Automatic+cc+Doors+Price+Weight',data=df1).fit().rsquared\n",
    "vif_gears=1/(1-rsq_gears)\n",
    "vif_gears"
   ]
  },
  {
   "cell_type": "code",
   "execution_count": 107,
   "id": "260b5e56",
   "metadata": {},
   "outputs": [
    {
     "data": {
      "text/plain": [
       "3.9601983300198405"
      ]
     },
     "execution_count": 107,
     "metadata": {},
     "output_type": "execute_result"
    }
   ],
   "source": [
    "rsq_weight=smf.ols('Weight~Age_08_04+Fuel_Type+HP+Automatic+cc+Doors+Gears+Price',data=df1).fit().rsquared\n",
    "vif_weight=1/(1-rsq_weight)\n",
    "vif_weight"
   ]
  },
  {
   "cell_type": "code",
   "execution_count": 116,
   "id": "21262f2f",
   "metadata": {},
   "outputs": [
    {
     "data": {
      "text/html": [
       "<div>\n",
       "<style scoped>\n",
       "    .dataframe tbody tr th:only-of-type {\n",
       "        vertical-align: middle;\n",
       "    }\n",
       "\n",
       "    .dataframe tbody tr th {\n",
       "        vertical-align: top;\n",
       "    }\n",
       "\n",
       "    .dataframe thead th {\n",
       "        text-align: right;\n",
       "    }\n",
       "</style>\n",
       "<table border=\"1\" class=\"dataframe\">\n",
       "  <thead>\n",
       "    <tr style=\"text-align: right;\">\n",
       "      <th></th>\n",
       "      <th>variables</th>\n",
       "      <th>vif_values</th>\n",
       "    </tr>\n",
       "  </thead>\n",
       "  <tbody>\n",
       "    <tr>\n",
       "      <th>0</th>\n",
       "      <td>Price</td>\n",
       "      <td>6.600863</td>\n",
       "    </tr>\n",
       "    <tr>\n",
       "      <th>1</th>\n",
       "      <td>Age_08_04</td>\n",
       "      <td>4.888641</td>\n",
       "    </tr>\n",
       "    <tr>\n",
       "      <th>2</th>\n",
       "      <td>HP</td>\n",
       "      <td>2.360199</td>\n",
       "    </tr>\n",
       "    <tr>\n",
       "      <th>3</th>\n",
       "      <td>Automatic</td>\n",
       "      <td>1.223941</td>\n",
       "    </tr>\n",
       "    <tr>\n",
       "      <th>4</th>\n",
       "      <td>cc</td>\n",
       "      <td>1.223941</td>\n",
       "    </tr>\n",
       "    <tr>\n",
       "      <th>5</th>\n",
       "      <td>Doors</td>\n",
       "      <td>1.211516</td>\n",
       "    </tr>\n",
       "    <tr>\n",
       "      <th>6</th>\n",
       "      <td>Gears</td>\n",
       "      <td>1.113510</td>\n",
       "    </tr>\n",
       "    <tr>\n",
       "      <th>7</th>\n",
       "      <td>Weight</td>\n",
       "      <td>3.960198</td>\n",
       "    </tr>\n",
       "  </tbody>\n",
       "</table>\n",
       "</div>"
      ],
      "text/plain": [
       "   variables  vif_values\n",
       "0      Price    6.600863\n",
       "1  Age_08_04    4.888641\n",
       "2         HP    2.360199\n",
       "3  Automatic    1.223941\n",
       "4         cc    1.223941\n",
       "5      Doors    1.211516\n",
       "6      Gears    1.113510\n",
       "7     Weight    3.960198"
      ]
     },
     "execution_count": 116,
     "metadata": {},
     "output_type": "execute_result"
    }
   ],
   "source": [
    "d1={'variables':['Price', 'Age_08_04',  'HP', 'Automatic', 'cc','Doors','Gears','Weight'],'vif_values':[vif_price,vif_age,vif_hp,vif_auto,vif_cc,vif_doors,vif_gears,vif_weight]}\n",
    "d1=pd.DataFrame(d1)\n",
    "d1"
   ]
  },
  {
   "cell_type": "code",
   "execution_count": 118,
   "id": "831f0f37",
   "metadata": {},
   "outputs": [],
   "source": [
    "model=smf.ols('KM~Age_08_04+HP+Automatic+cc+Doors+Gears+Weight',data=df1).fit()"
   ]
  },
  {
   "cell_type": "code",
   "execution_count": 119,
   "id": "8ecf90a8",
   "metadata": {},
   "outputs": [
    {
     "data": {
      "text/plain": [
       "33183.65301077426"
      ]
     },
     "execution_count": 119,
     "metadata": {},
     "output_type": "execute_result"
    }
   ],
   "source": [
    "model.aic"
   ]
  },
  {
   "cell_type": "code",
   "execution_count": 121,
   "id": "f95acfda",
   "metadata": {},
   "outputs": [
    {
     "data": {
      "text/plain": [
       "0.5545381420059963"
      ]
     },
     "execution_count": 121,
     "metadata": {},
     "output_type": "execute_result"
    }
   ],
   "source": [
    "model.rsquared"
   ]
  },
  {
   "cell_type": "code",
   "execution_count": 123,
   "id": "6b9d4c75",
   "metadata": {},
   "outputs": [],
   "source": [
    "model=smf.ols('KM~Price+HP+Automatic+cc+Doors+Gears+Weight',data=df1).fit()"
   ]
  },
  {
   "cell_type": "code",
   "execution_count": 124,
   "id": "8f20c5e3",
   "metadata": {},
   "outputs": [
    {
     "data": {
      "text/plain": [
       "33361.80777121007"
      ]
     },
     "execution_count": 124,
     "metadata": {},
     "output_type": "execute_result"
    }
   ],
   "source": [
    "model.aic"
   ]
  },
  {
   "cell_type": "code",
   "execution_count": 125,
   "id": "f15f388e",
   "metadata": {},
   "outputs": [],
   "source": [
    "model=smf.ols('KM~Age_08_04+HP+Automatic+cc+Doors+Gears+Price',data=df1).fit()"
   ]
  },
  {
   "cell_type": "code",
   "execution_count": 126,
   "id": "dee40aae",
   "metadata": {},
   "outputs": [
    {
     "data": {
      "text/plain": [
       "33599.11250146352"
      ]
     },
     "execution_count": 126,
     "metadata": {},
     "output_type": "execute_result"
    }
   ],
   "source": [
    "model.aic"
   ]
  },
  {
   "cell_type": "code",
   "execution_count": 127,
   "id": "b0a81b2a",
   "metadata": {},
   "outputs": [
    {
     "data": {
      "text/plain": [
       "0.4025879393625651"
      ]
     },
     "execution_count": 127,
     "metadata": {},
     "output_type": "execute_result"
    }
   ],
   "source": [
    "model.rsquared"
   ]
  },
  {
   "cell_type": "code",
   "execution_count": 128,
   "id": "ca18e02b",
   "metadata": {},
   "outputs": [],
   "source": [
    "import statsmodels.api as sm"
   ]
  },
  {
   "cell_type": "code",
   "execution_count": 130,
   "id": "595bd0cf",
   "metadata": {},
   "outputs": [
    {
     "data": {
      "image/png": "[encoded data removed]",
      "text/plain": [
       "<Figure size 640x480 with 1 Axes>"
      ]
     },
     "metadata": {},
     "output_type": "display_data"
    }
   ],
   "source": [
    "model=smf.ols('KM~Age_08_04+HP+Automatic+cc+Doors+Gears+Weight',data=df1).fit()\n",
    "qqplot=sm.qqplot(model.resid,line='q')"
   ]
  },
  {
   "cell_type": "code",
   "execution_count": 132,
   "id": "d79fabc3",
   "metadata": {},
   "outputs": [
    {
     "data": {
      "text/plain": [
       "<seaborn.axisgrid.FacetGrid at 0x1ca02e229d0>"
      ]
     },
     "execution_count": 132,
     "metadata": {},
     "output_type": "execute_result"
    },
    {
     "data": {
      "image/png": "[encoded data removed]",
      "text/plain": [
       "<Figure size 500x500 with 1 Axes>"
      ]
     },
     "metadata": {},
     "output_type": "display_data"
    }
   ],
   "source": [
    "sns.displot(model.resid,kde=True)"
   ]
  },
  {
   "cell_type": "code",
   "execution_count": 133,
   "id": "6f267658",
   "metadata": {},
   "outputs": [
    {
     "data": {
      "text/plain": [
       "<matplotlib.collections.PathCollection at 0x1ca02f1e310>"
      ]
     },
     "execution_count": 133,
     "metadata": {},
     "output_type": "execute_result"
    },
    {
     "data": {
      "image/png": "[encoded data removed]",
      "text/plain": [
       "<Figure size 640x480 with 1 Axes>"
      ]
     },
     "metadata": {},
     "output_type": "display_data"
    }
   ],
   "source": [
    "plt.scatter(model.resid,model.fittedvalues)"
   ]
  },
  {
   "cell_type": "code",
   "execution_count": 136,
   "id": "43d15f7b",
   "metadata": {},
   "outputs": [
    {
     "data": {
      "text/plain": [
       "<Axes: >"
      ]
     },
     "execution_count": 136,
     "metadata": {},
     "output_type": "execute_result"
    },
    {
     "data": {
      "image/png": "[encoded data removed]",
      "text/plain": [
       "<Figure size 640x480 with 1 Axes>"
      ]
     },
     "metadata": {},
     "output_type": "display_data"
    }
   ],
   "source": [
    "sns.boxplot(model.resid)"
   ]
  },
  {
   "cell_type": "code",
   "execution_count": 137,
   "id": "634051d6",
   "metadata": {},
   "outputs": [],
   "source": [
    "# standardization and normalization help to rescale the data because of with higher values the calicualtion will be difficut and there is occurance morecollinarity\n",
    "#standardization and normalization can make easier caliculation and decrease multicollinarity"
   ]
  },
  {
   "cell_type": "code",
   "execution_count": 138,
   "id": "4bd4e354",
   "metadata": {},
   "outputs": [],
   "source": [
    "#we use vif to know the multicollinarity \n"
   ]
  },
  {
   "cell_type": "code",
   "execution_count": null,
   "id": "f4753ed6",
   "metadata": {},
   "outputs": [],
   "source": []
  }
 ],
 "metadata": {
  "kernelspec": {
   "display_name": "Python 3 (ipykernel)",
   "language": "python",
   "name": "python3"
  },
  "language_info": {
   "codemirror_mode": {
    "name": "ipython",
    "version": 3
   },
   "file_extension": ".py",
   "mimetype": "text/x-python",
   "name": "python",
   "nbconvert_exporter": "python",
   "pygments_lexer": "ipython3",
   "version": "3.11.3"
  }
 },
 "nbformat": 4,
 "nbformat_minor": 5
}
